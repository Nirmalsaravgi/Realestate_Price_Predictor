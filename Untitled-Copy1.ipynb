{
 "cells": [
  {
   "cell_type": "raw",
   "id": "1f41a0ed",
   "metadata": {},
   "source": [
    "import pandas as pd\n",
    "import numpy as np\n",
    "from matplotlib import pyplot as plt\n",
    "%matplotlib inline\n",
    "import matplotlib \n",
    "matplotlib.rcParams[\"figure.figsize\"] = (20,10)"
   ]
  },
  {
   "cell_type": "raw",
   "id": "daae3ef3",
   "metadata": {},
   "source": [
    "df1 = pd.read_csv(\"Bengaluru_House_Data.csv\")\n",
    "df1.head()"
   ]
  },
  {
   "cell_type": "raw",
   "id": "23fd6222",
   "metadata": {},
   "source": [
    "df1.shape"
   ]
  },
  {
   "cell_type": "raw",
   "id": "f85be83f",
   "metadata": {},
   "source": [
    "df1.columns"
   ]
  },
  {
   "cell_type": "raw",
   "id": "fa5d3a0c",
   "metadata": {},
   "source": [
    "df1['area_type'].unique()"
   ]
  },
  {
   "cell_type": "raw",
   "id": "966866de",
   "metadata": {},
   "source": [
    "df1['area_type'].value_counts()"
   ]
  },
  {
   "cell_type": "raw",
   "id": "0eeec7b4",
   "metadata": {},
   "source": [
    "df2 = df1.drop(['area_type','society','balcony','availability'],axis='columns')\n",
    "df2.shape"
   ]
  },
  {
   "cell_type": "raw",
   "id": "5558ebc5",
   "metadata": {},
   "source": [
    "df2.isnull().sum()"
   ]
  },
  {
   "cell_type": "raw",
   "id": "bbac8fa0",
   "metadata": {},
   "source": [
    "df2.shape"
   ]
  },
  {
   "cell_type": "raw",
   "id": "7cfc3d00",
   "metadata": {},
   "source": [
    "df3 = df2.dropna()\n",
    "df3.isnull().sum()"
   ]
  },
  {
   "cell_type": "raw",
   "id": "2622fd3c",
   "metadata": {},
   "source": [
    "df3.shape"
   ]
  },
  {
   "cell_type": "raw",
   "id": "3f637626",
   "metadata": {},
   "source": [
    "df3['bhk'] = df3['size'].apply(lambda x: int(x.split(' ')[0]))\n",
    "df3.bhk.unique()"
   ]
  },
  {
   "cell_type": "raw",
   "id": "7f23f5d4",
   "metadata": {},
   "source": [
    "def is_float(x):\n",
    "    try:\n",
    "        float(x)\n",
    "    except:\n",
    "        return False\n",
    "    return True"
   ]
  },
  {
   "cell_type": "raw",
   "id": "96a44140",
   "metadata": {},
   "source": [
    "2+3"
   ]
  },
  {
   "cell_type": "raw",
   "id": "4c82eabf",
   "metadata": {},
   "source": [
    "df3[~df3['total_sqft'].apply(is_float)].head(10)"
   ]
  },
  {
   "cell_type": "raw",
   "id": "6a3d7e0c",
   "metadata": {},
   "source": [
    "def convert_sqft_to_num(x):\n",
    "    tokens = x.split('-')\n",
    "    if len(tokens) == 2:\n",
    "        return (float(tokens[0])+float(tokens[1]))/2\n",
    "    try:\n",
    "        return float(x)\n",
    "    except:\n",
    "        return None   "
   ]
  },
  {
   "cell_type": "raw",
   "id": "0b685d6e",
   "metadata": {},
   "source": [
    "df4 = df3.copy()\n",
    "df4.total_sqft = df4.total_sqft.apply(convert_sqft_to_num)\n",
    "df4 = df4[df4.total_sqft.notnull()]\n",
    "df4.head(2)"
   ]
  },
  {
   "cell_type": "raw",
   "id": "ed138901",
   "metadata": {},
   "source": [
    "df4.loc[30]"
   ]
  },
  {
   "cell_type": "raw",
   "id": "93ab3dcc",
   "metadata": {},
   "source": [
    "(2100+2850)/2"
   ]
  },
  {
   "cell_type": "raw",
   "id": "9bbbe0fc",
   "metadata": {},
   "source": [
    "df5 = df4.copy()\n",
    "df5['price_per_sqft'] = df5['price']*100000/df5['total_sqft']\n",
    "df5.head()"
   ]
  },
  {
   "cell_type": "raw",
   "id": "88b4fa86",
   "metadata": {},
   "source": [
    "df5_stats = df5['price_per_sqft'].describe()\n",
    "df5_stats"
   ]
  },
  {
   "cell_type": "raw",
   "id": "185c49c6",
   "metadata": {},
   "source": [
    "df5.to_csv(\"bhp.csv\",index=False)"
   ]
  },
  {
   "cell_type": "raw",
   "id": "6184fe37",
   "metadata": {},
   "source": [
    "df5.location = df5.location.apply(lambda x: x.strip())\n",
    "location_stats = df5['location'].value_counts(ascending=False)\n",
    "location_stats"
   ]
  },
  {
   "cell_type": "raw",
   "id": "83f54398",
   "metadata": {},
   "source": [
    "location_stats.values.sum()"
   ]
  },
  {
   "cell_type": "raw",
   "id": "b3763036",
   "metadata": {},
   "source": [
    "len(location_stats[location_stats>10])"
   ]
  },
  {
   "cell_type": "raw",
   "id": "2aa80b8e",
   "metadata": {},
   "source": [
    "len(location_stats)"
   ]
  },
  {
   "cell_type": "raw",
   "id": "d786c94c",
   "metadata": {},
   "source": [
    "len(location_stats[location_stats<=10])"
   ]
  },
  {
   "cell_type": "raw",
   "id": "c2846b1f",
   "metadata": {},
   "source": [
    "location_stats_less_than_10 = location_stats[location_stats<=10]\n",
    "location_stats_less_than_10"
   ]
  },
  {
   "cell_type": "raw",
   "id": "651d3d0b",
   "metadata": {},
   "source": [
    "len(df5.location.unique())"
   ]
  },
  {
   "cell_type": "raw",
   "id": "924537da",
   "metadata": {},
   "source": [
    "df5.location = df5.location.apply(lambda x: 'other' if x in location_stats_less_than_10 else x)\n",
    "len(df5.location.unique())"
   ]
  },
  {
   "cell_type": "raw",
   "id": "69b42055",
   "metadata": {},
   "source": [
    "df5.head(10)"
   ]
  },
  {
   "cell_type": "raw",
   "id": "6e10d885",
   "metadata": {},
   "source": [
    "df5[df5.total_sqft/df5.bhk<300].head()"
   ]
  },
  {
   "cell_type": "raw",
   "id": "942b4b4d",
   "metadata": {},
   "source": [
    "df5.shape"
   ]
  },
  {
   "cell_type": "raw",
   "id": "c1f121a2",
   "metadata": {},
   "source": [
    "df6 = df5[~(df5.total_sqft/df5.bhk<300)]\n",
    "df6.shape"
   ]
  },
  {
   "cell_type": "raw",
   "id": "027cacd4",
   "metadata": {},
   "source": [
    "df6.price_per_sqft.describe()"
   ]
  },
  {
   "cell_type": "raw",
   "id": "7f3d9631",
   "metadata": {},
   "source": [
    "def remove_pps_outliers(df):\n",
    "    df_out = pd.DataFrame()\n",
    "    for key, subdf in df.groupby('location'):\n",
    "        m = np.mean(subdf.price_per_sqft)\n",
    "        st = np.std(subdf.price_per_sqft)\n",
    "        reduced_df = subdf[(subdf.price_per_sqft>(m-st)) & (subdf.price_per_sqft<=(m+st))]\n",
    "        df_out = pd.concat([df_out,reduced_df],ignore_index=True)\n",
    "    return df_out\n",
    "df7 = remove_pps_outliers(df6)\n",
    "df7.shape"
   ]
  },
  {
   "cell_type": "raw",
   "id": "be2cb53d",
   "metadata": {},
   "source": [
    "def plot_scatter_chart(df,location):\n",
    "    bhk2 = df[(df.location==location) & (df.bhk==2)]\n",
    "    bhk3 = df[(df.location==location) & (df.bhk==3)]\n",
    "    matplotlib.rcParams['figure.figsize'] = (15,10)\n",
    "    plt.scatter(bhk2.total_sqft,bhk2.price,color='blue',label='2 BHK', s=50)\n",
    "    plt.scatter(bhk3.total_sqft,bhk3.price,marker='+', color='green',label='3 BHK', s=50)\n",
    "    plt.xlabel(\"Total Square Feet Area\")\n",
    "    plt.ylabel(\"Price (Lakh Indian Rupees)\")\n",
    "    plt.title(location)\n",
    "    plt.legend()\n",
    "    \n",
    "plot_scatter_chart(df7,\"Rajaji Nagar\")"
   ]
  },
  {
   "cell_type": "raw",
   "id": "7e909008",
   "metadata": {},
   "source": [
    "plot_scatter_chart(df7,\"Hebbal\")"
   ]
  },
  {
   "cell_type": "raw",
   "id": "dd713802",
   "metadata": {},
   "source": [
    "def remove_bhk_outliers(df):\n",
    "    exclude_indices = np.array([])\n",
    "    for location, location_df in df.groupby('location'):\n",
    "        bhk_stats = {}\n",
    "        for bhk, bhk_df in location_df.groupby('bhk'):\n",
    "            bhk_stats[bhk] = {\n",
    "                'mean': np.mean(bhk_df.price_per_sqft),\n",
    "                'std': np.std(bhk_df.price_per_sqft),\n",
    "                'count': bhk_df.shape[0]\n",
    "            }\n",
    "        for bhk, bhk_df in location_df.groupby('bhk'):\n",
    "            stats = bhk_stats.get(bhk-1)\n",
    "            if stats and stats['count']>5:\n",
    "                exclude_indices = np.append(exclude_indices, bhk_df[bhk_df.price_per_sqft<(stats['mean'])].index.values)\n",
    "    return df.drop(exclude_indices,axis='index')\n",
    "df8 = remove_bhk_outliers(df7)\n",
    "# df8 = df7.copy()\n",
    "df8.shape"
   ]
  },
  {
   "cell_type": "raw",
   "id": "85505c72",
   "metadata": {},
   "source": [
    "plot_scatter_chart(df8,\"Rajaji Nagar\")"
   ]
  },
  {
   "cell_type": "raw",
   "id": "2d60d0fd",
   "metadata": {},
   "source": [
    "plot_scatter_chart(df8,\"Hebbal\")"
   ]
  },
  {
   "cell_type": "raw",
   "id": "217e9c20",
   "metadata": {},
   "source": [
    "import matplotlib\n",
    "matplotlib.rcParams[\"figure.figsize\"] = (20,10)\n",
    "plt.hist(df8.price_per_sqft,rwidth=0.8)\n",
    "plt.xlabel(\"Price Per Square Feet\")\n",
    "plt.ylabel(\"Count\")"
   ]
  },
  {
   "cell_type": "raw",
   "id": "5f3a9c19",
   "metadata": {},
   "source": [
    "df8.bath.unique()"
   ]
  },
  {
   "cell_type": "raw",
   "id": "acdb4c80",
   "metadata": {},
   "source": [
    "plt.hist(df8.bath,rwidth=0.8)\n",
    "plt.xlabel(\"Number of bathrooms\")\n",
    "plt.ylabel(\"Count\")"
   ]
  },
  {
   "cell_type": "raw",
   "id": "a8fc30cd",
   "metadata": {},
   "source": [
    "df8[df8.bath>10]"
   ]
  },
  {
   "cell_type": "raw",
   "id": "19b120e4",
   "metadata": {},
   "source": [
    "df8[df8.bath>df8.bhk+2]"
   ]
  },
  {
   "cell_type": "raw",
   "id": "f6cdb0cf",
   "metadata": {},
   "source": [
    "df9 = df8[df8.bath<df8.bhk+2]\n",
    "df9.shape"
   ]
  },
  {
   "cell_type": "raw",
   "id": "972c6eb2",
   "metadata": {},
   "source": [
    "df9.head(2)"
   ]
  },
  {
   "cell_type": "raw",
   "id": "bc514b11",
   "metadata": {},
   "source": [
    "df10 = df9.drop(['size','price_per_sqft'],axis='columns')\n",
    "df10.head(3)"
   ]
  },
  {
   "cell_type": "raw",
   "id": "657271b3",
   "metadata": {},
   "source": [
    "dummies = pd.get_dummies(df10.location)\n",
    "dummies.head(3)"
   ]
  },
  {
   "cell_type": "raw",
   "id": "f11fcfb5",
   "metadata": {},
   "source": [
    "df11 = pd.concat([df10,dummies.drop('other',axis='columns')],axis='columns')\n",
    "df11.head()"
   ]
  },
  {
   "cell_type": "raw",
   "id": "4b322510",
   "metadata": {},
   "source": [
    "df12 = df11.drop('location',axis='columns')\n",
    "df12.head(2)"
   ]
  },
  {
   "cell_type": "raw",
   "id": "b6954c75",
   "metadata": {},
   "source": [
    "df12.shape"
   ]
  },
  {
   "cell_type": "raw",
   "id": "f11b8ed8",
   "metadata": {},
   "source": [
    "X = df12.drop(['price'],axis='columns')\n",
    "X.head(3)"
   ]
  },
  {
   "cell_type": "raw",
   "id": "b61bd078",
   "metadata": {},
   "source": [
    "X.shape"
   ]
  },
  {
   "cell_type": "raw",
   "id": "2e0e9f4b",
   "metadata": {},
   "source": [
    "y = df12.price\n",
    "y.head(3)"
   ]
  },
  {
   "cell_type": "raw",
   "id": "ef3adb3f",
   "metadata": {},
   "source": [
    "len(y)"
   ]
  },
  {
   "cell_type": "raw",
   "id": "685663ae",
   "metadata": {},
   "source": [
    "from sklearn.model_selection import train_test_split\n",
    "X_train, X_test, y_train, y_test = train_test_split(X,y,test_size=0.2,random_state=10)"
   ]
  },
  {
   "cell_type": "raw",
   "id": "be4d39df",
   "metadata": {},
   "source": [
    "from sklearn.linear_model import LinearRegression\n",
    "lr_clf = LinearRegression()\n",
    "lr_clf.fit(X_train,y_train)\n",
    "lr_clf.score(X_test,y_test)"
   ]
  },
  {
   "cell_type": "raw",
   "id": "cea8f019",
   "metadata": {},
   "source": [
    "from sklearn.model_selection import ShuffleSplit\n",
    "from sklearn.model_selection import cross_val_score\n",
    "\n",
    "cv = ShuffleSplit(n_splits=5, test_size=0.2, random_state=0)\n",
    "\n",
    "cross_val_score(LinearRegression(), X, y, cv=cv)"
   ]
  },
  {
   "cell_type": "raw",
   "id": "8f3556fe",
   "metadata": {},
   "source": [
    "def predict_price(location,sqft,bath,bhk):    \n",
    "    loc_index = np.where(X.columns==location)[0][0]\n",
    "\n",
    "    x = np.zeros(len(X.columns))\n",
    "    x[0] = sqft\n",
    "    x[1] = bath\n",
    "    x[2] = bhk\n",
    "    if loc_index >= 0:\n",
    "        x[loc_index] = 1\n",
    "\n",
    "    return lr_clf.predict([x])[0]"
   ]
  },
  {
   "cell_type": "raw",
   "id": "15ec8b3a",
   "metadata": {},
   "source": [
    "predict_price('1st Phase JP Nagar',1000, 2, 2)"
   ]
  },
  {
   "cell_type": "raw",
   "id": "b31953bd",
   "metadata": {},
   "source": [
    "predict_price('1st Phase JP Nagar',1000, 3, 3)"
   ]
  },
  {
   "cell_type": "raw",
   "id": "2d7306df",
   "metadata": {},
   "source": [
    "predict_price('Indira Nagar',1000, 3, 3)"
   ]
  },
  {
   "cell_type": "raw",
   "id": "b832adce",
   "metadata": {},
   "source": []
  }
 ],
 "metadata": {
  "kernelspec": {
   "display_name": "Python 3 (ipykernel)",
   "language": "python",
   "name": "python3"
  },
  "language_info": {
   "codemirror_mode": {
    "name": "ipython",
    "version": 3
   },
   "file_extension": ".py",
   "mimetype": "text/x-python",
   "name": "python",
   "nbconvert_exporter": "python",
   "pygments_lexer": "ipython3",
   "version": "3.11.3"
  }
 },
 "nbformat": 4,
 "nbformat_minor": 5
}
